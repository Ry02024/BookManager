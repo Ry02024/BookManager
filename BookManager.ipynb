{
  "cells": [
    {
      "cell_type": "markdown",
      "metadata": {
        "id": "view-in-github",
        "colab_type": "text"
      },
      "source": [
        "<a href=\"https://colab.research.google.com/github/Ry02024/BookManager/blob/main/BookManager.ipynb\" target=\"_parent\"><img src=\"https://colab.research.google.com/assets/colab-badge.svg\" alt=\"Open In Colab\"/></a>"
      ]
    },
    {
      "cell_type": "markdown",
      "metadata": {
        "id": "d_4FA9X01rxG"
      },
      "source": [
        "##環境構築"
      ]
    },
    {
      "cell_type": "code",
      "execution_count": 22,
      "metadata": {
        "id": "NGNRP4F6Xaxi"
      },
      "outputs": [],
      "source": [
        "!pip install streamlit streamlit-webrtc pyzbar pillow requests opencv-python-headless pyngrok -q"
      ]
    },
    {
      "cell_type": "code",
      "execution_count": null,
      "metadata": {
        "id": "DqJwU3Q4Zhpe",
        "colab": {
          "base_uri": "https://localhost:8080/"
        },
        "outputId": "3bc13f55-a046-4ca0-b5e6-da5628e8b4b2"
      },
      "outputs": [
        {
          "output_type": "stream",
          "name": "stdout",
          "text": [
            "Reading package lists... Done\n",
            "Building dependency tree... Done\n",
            "Reading state information... Done\n",
            "libzbar0 is already the newest version (0.23.92-4build2).\n",
            "0 upgraded, 0 newly installed, 0 to remove and 45 not upgraded.\n"
          ]
        }
      ],
      "source": [
        "!sudo apt-get install libzbar0"
      ]
    },
    {
      "cell_type": "code",
      "execution_count": null,
      "metadata": {
        "id": "yXfzNyhE1rxG"
      },
      "outputs": [],
      "source": [
        "import streamlit as st\n",
        "from pyngrok import ngrok"
      ]
    },
    {
      "cell_type": "code",
      "execution_count": null,
      "metadata": {
        "id": "wTBjGPdv1rxG"
      },
      "outputs": [],
      "source": [
        "from google.colab import userdata\n",
        "NGROK_AUTH_TOKEN = userdata.get('NGROK_AUTH_TOKEN')"
      ]
    },
    {
      "cell_type": "code",
      "execution_count": null,
      "metadata": {
        "id": "SUP7mo2B1rxG"
      },
      "outputs": [],
      "source": [
        "from pyngrok import ngrok\n",
        "import os\n",
        "\n",
        "# ngrokトークンを設定\n",
        "ngrok.set_auth_token(NGROK_AUTH_TOKEN)"
      ]
    },
    {
      "cell_type": "markdown",
      "metadata": {
        "id": "KfkVixYM1rxG"
      },
      "source": [
        "##実行ファイル"
      ]
    },
    {
      "cell_type": "markdown",
      "metadata": {
        "id": "sMerQbWVeyRE"
      },
      "source": [
        "###version1"
      ]
    },
    {
      "cell_type": "code",
      "source": [
        "%%writefile streamlit_app.py\n",
        "import streamlit as st\n",
        "from streamlit_webrtc import webrtc_streamer, VideoTransformerBase\n",
        "import cv2\n",
        "import numpy as np\n",
        "from pyzbar.pyzbar import decode\n",
        "import requests\n",
        "from PIL import Image\n",
        "from io import BytesIO\n",
        "\n",
        "# APIから書籍データを取得する関数\n",
        "def get_book_info(isbn):\n",
        "    url = f'https://www.googleapis.com/books/v1/volumes?q=isbn:{isbn}'\n",
        "    response = requests.get(url)\n",
        "    if response.status_code == 200:\n",
        "        data = response.json()\n",
        "        if \"items\" in data:\n",
        "            return data[\"items\"][0][\"volumeInfo\"]\n",
        "    return None\n",
        "\n",
        "# 手動でISBN番号を入力する関数\n",
        "def manual_isbn_input():\n",
        "    isbn = st.text_input(\"ISBN番号を入力してください（例: 9784297108434）\")\n",
        "    if isbn:\n",
        "        display_book_info(isbn)\n",
        "\n",
        "# カメラでバーコードを読み取るクラス\n",
        "class BarcodeScanner(VideoTransformerBase):\n",
        "    def __init__(self):\n",
        "        self.last_barcode = None\n",
        "\n",
        "    def transform(self, frame):\n",
        "        img = frame.to_ndarray(format=\"bgr24\")\n",
        "        decoded_objects = decode(img)\n",
        "\n",
        "        for obj in decoded_objects:\n",
        "            barcode_data = obj.data.decode(\"utf-8\")\n",
        "            barcode_type = obj.type\n",
        "\n",
        "            # デバッグ: 認識したバーコード情報を表示\n",
        "            st.write(f\"認識したバーコード: {barcode_data} (タイプ: {barcode_type})\")\n",
        "\n",
        "            # ISBNは通常 \"97\" で始まる\n",
        "            if barcode_type in [\"EAN13\", \"ISBN13\"] and barcode_data.startswith('97') and barcode_data != self.last_barcode:\n",
        "                self.last_barcode = barcode_data\n",
        "                st.session_state['barcode'] = barcode_data\n",
        "                break\n",
        "\n",
        "        return img\n",
        "\n",
        "# カメラでバーコードを読み取る関数\n",
        "def camera_isbn_input():\n",
        "    if 'barcode' not in st.session_state:\n",
        "        st.session_state['barcode'] = None\n",
        "    webrtc_ctx = webrtc_streamer(key=\"barcode-scanner\", video_transformer_factory=BarcodeScanner)\n",
        "    if st.session_state['barcode']:\n",
        "        barcode = st.session_state['barcode']\n",
        "        st.success(f\"バーコードが読み取られました: {barcode}\")\n",
        "        display_book_info(barcode)\n",
        "    else:\n",
        "        st.write(\"カメラをバーコードに向けてください。\")\n",
        "\n",
        "# 画像からバーコードを読み取る関数\n",
        "def image_isbn_input():\n",
        "    uploaded_file = st.file_uploader(\"バーコードを含む画像をアップロードしてください\", type=[\"png\", \"jpg\", \"jpeg\"])\n",
        "    if uploaded_file is not None:\n",
        "        image = Image.open(uploaded_file)\n",
        "        st.image(image, caption='アップロードされた画像', use_column_width=True)\n",
        "        img_array = np.array(image.convert('RGB'))\n",
        "        decoded_objects = decode(img_array)\n",
        "        for obj in decoded_objects:\n",
        "            barcode_data = obj.data.decode(\"utf-8\")\n",
        "            barcode_type = obj.type\n",
        "            if barcode_type in [\"EAN13\", \"ISBN13\"] and barcode_data.startswith('97'):\n",
        "                st.session_state['barcode'] = barcode_data\n",
        "                break\n",
        "        if 'barcode' in st.session_state and st.session_state['barcode']:\n",
        "            st.success(f\"バーコードが読み取られました: {st.session_state['barcode']}\")\n",
        "            display_book_info(st.session_state['barcode'])\n",
        "        else:\n",
        "            st.error(\"バーコードが検出されませんでした。\")\n",
        "\n",
        "# 書籍情報を表示する関数\n",
        "def display_book_info(isbn):\n",
        "    book_info = get_book_info(isbn)\n",
        "    if book_info:\n",
        "        st.write(\"書籍情報:\")\n",
        "        st.write(f\"**タイトル**: {book_info.get('title', '不明')}\")\n",
        "        st.write(f\"**著者**: {', '.join(book_info.get('authors', ['不明']))}\")\n",
        "        st.write(f\"**出版年**: {book_info.get('publishedDate', '不明')}\")\n",
        "        st.write(f\"**出版社**: {book_info.get('publisher', '不明')}\")\n",
        "        st.write(f\"**説明**: {book_info.get('description', '不明')}\")\n",
        "        if 'imageLinks' in book_info and 'thumbnail' in book_info['imageLinks']:\n",
        "            image_url = book_info['imageLinks']['thumbnail']\n",
        "            response = requests.get(image_url)\n",
        "            img = Image.open(BytesIO(response.content))\n",
        "            st.image(img, caption=book_info.get('title', '不明'))\n",
        "    else:\n",
        "        st.error(\"書籍情報が見つかりませんでした。\")\n",
        "\n",
        "st.title(\"ISBN番号で書籍データを検索するアプリ\")\n",
        "\n",
        "option = st.radio(\"選択してください:\", (\"ISBN番号を入力\", \"カメラでバーコードを読み取る\", \"画像からバーコードを読み取る\"))\n",
        "\n",
        "if option == \"ISBN番号を入力\":\n",
        "    manual_isbn_input()\n",
        "elif option == \"カメラでバーコードを読み取る\":\n",
        "    camera_isbn_input()\n",
        "elif option == \"画像からバーコードを読み取る\":\n",
        "    image_isbn_input()\n"
      ],
      "metadata": {
        "colab": {
          "base_uri": "https://localhost:8080/"
        },
        "id": "FHnHJYWjjuf-",
        "outputId": "4d9aaeef-e793-42ff-8697-6aaf136309cf"
      },
      "execution_count": 26,
      "outputs": [
        {
          "output_type": "stream",
          "name": "stdout",
          "text": [
            "Overwriting streamlit_app.py\n"
          ]
        }
      ]
    },
    {
      "cell_type": "markdown",
      "source": [
        "##version2"
      ],
      "metadata": {
        "id": "knwG7d8zhHJQ"
      }
    },
    {
      "cell_type": "markdown",
      "metadata": {
        "id": "W4iAda4i1rxH"
      },
      "source": [
        "##アプリの起動"
      ]
    },
    {
      "cell_type": "code",
      "execution_count": 27,
      "metadata": {
        "colab": {
          "base_uri": "https://localhost:8080/"
        },
        "id": "17c_nK0C1rxH",
        "outputId": "f09623fe-cb31-4778-fc9f-11d63227c296"
      },
      "outputs": [
        {
          "output_type": "stream",
          "name": "stdout",
          "text": [
            "Public URL: NgrokTunnel: \"https://6fa0-35-197-80-48.ngrok-free.app\" -> \"http://localhost:8501\"\n"
          ]
        }
      ],
      "source": [
        "# ngrokを介してStreamlitを公開\n",
        "public_url = ngrok.connect(addr='8501')\n",
        "print('Public URL:', public_url)"
      ]
    },
    {
      "cell_type": "code",
      "execution_count": 28,
      "metadata": {
        "colab": {
          "base_uri": "https://localhost:8080/"
        },
        "id": "RL66sp521rxI",
        "outputId": "ccff0fd7-d249-45ad-e20d-d5b35dcba9b0"
      },
      "outputs": [
        {
          "output_type": "stream",
          "name": "stdout",
          "text": [
            "/content/streamlit_app.py:54: DeprecationWarning: The argument video_transformer_factory is deprecated. Use video_processor_factory instead.\n",
            "See https://github.com/whitphx/streamlit-webrtc#for-users-since-versions-020\n",
            "  webrtc_ctx = webrtc_streamer(key=\"barcode-scanner\", video_transformer_factory=BarcodeScanner)\n",
            "/content/streamlit_app.py:54: DeprecationWarning: The argument video_transformer_factory is deprecated. Use video_processor_factory instead.\n",
            "See https://github.com/whitphx/streamlit-webrtc#for-users-since-versions-020\n",
            "  webrtc_ctx = webrtc_streamer(key=\"barcode-scanner\", video_transformer_factory=BarcodeScanner)\n"
          ]
        }
      ],
      "source": [
        "# Streamlitアプリケーションの起動\n",
        "!streamlit run streamlit_app.py >/dev/null"
      ]
    },
    {
      "cell_type": "code",
      "source": [
        "\n",
        "import requests\n",
        "\n",
        "# APIから書籍データを取得する関数\n",
        "def get_book_info(isbn):\n",
        "    url = f'https://www.googleapis.com/books/v1/volumes?q=isbn:{isbn}'\n",
        "    response = requests.get(url)\n",
        "    if response.status_code == 200:\n",
        "        data = response.json()\n",
        "        if \"items\" in data:\n",
        "            return data[\"items\"][0][\"volumeInfo\"]\n",
        "    return None\n",
        "\n",
        "# テストするISBN番号\n",
        "isbn = '9784297108434'\n",
        "book_info = get_book_info(isbn)\n",
        "\n",
        "if book_info:\n",
        "    print(\"書籍情報:\")\n",
        "    print(f\"タイトル: {book_info.get('title', '不明')}\")\n",
        "    print(f\"著者: {', '.join(book_info.get('authors', ['不明']))}\")\n",
        "    print(f\"出版年: {book_info.get('publishedDate', '不明')}\")\n",
        "    print(f\"出版社: {book_info.get('publisher', '不明')}\")\n",
        "    print(f\"説明: {book_info.get('description', '不明')}\")\n",
        "    if 'imageLinks' in book_info and 'thumbnail' in book_info['imageLinks']:\n",
        "        print(f\"カバー画像URL: {book_info['imageLinks']['thumbnail']}\")\n",
        "else:\n",
        "    print(\"書籍情報が見つかりませんでした。\")"
      ],
      "metadata": {
        "colab": {
          "base_uri": "https://localhost:8080/"
        },
        "id": "6Psvtp64m_3f",
        "outputId": "3e330628-8ee0-425f-ffef-84ae25466211"
      },
      "execution_count": null,
      "outputs": [
        {
          "output_type": "stream",
          "name": "stdout",
          "text": [
            "書籍情報:\n",
            "タイトル: Kaggleで勝つデータ分析の技術\n",
            "著者: 門脇大輔, 阪田隆司, 保坂桂佑, 平松雄司\n",
            "出版年: 2019-10\n",
            "出版社: 不明\n",
            "説明: 不明\n",
            "カバー画像URL: http://books.google.com/books/content?id=SY-KygEACAAJ&printsec=frontcover&img=1&zoom=1&source=gbs_api\n"
          ]
        }
      ]
    }
  ],
  "metadata": {
    "colab": {
      "provenance": [],
      "toc_visible": true,
      "include_colab_link": true
    },
    "kernelspec": {
      "display_name": "Python 3",
      "name": "python3"
    },
    "language_info": {
      "name": "python"
    }
  },
  "nbformat": 4,
  "nbformat_minor": 0
}