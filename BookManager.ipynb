{
  "cells": [
    {
      "cell_type": "markdown",
      "metadata": {
        "id": "view-in-github",
        "colab_type": "text"
      },
      "source": [
        "<a href=\"https://colab.research.google.com/github/Ry02024/BookManager/blob/main/BookManager.ipynb\" target=\"_parent\"><img src=\"https://colab.research.google.com/assets/colab-badge.svg\" alt=\"Open In Colab\"/></a>"
      ]
    },
    {
      "cell_type": "markdown",
      "metadata": {
        "id": "d_4FA9X01rxG"
      },
      "source": [
        "##環境構築"
      ]
    },
    {
      "cell_type": "code",
      "execution_count": 2,
      "metadata": {
        "id": "NGNRP4F6Xaxi",
        "colab": {
          "base_uri": "https://localhost:8080/"
        },
        "outputId": "173f5ddb-62a1-4255-a455-387d7e8c9a16"
      },
      "outputs": [
        {
          "output_type": "stream",
          "name": "stdout",
          "text": [
            "\u001b[2K     \u001b[90m━━━━━━━━━━━━━━━━━━━━━━━━━━━━━━━━━━━━━━━━\u001b[0m \u001b[32m8.6/8.6 MB\u001b[0m \u001b[31m28.5 MB/s\u001b[0m eta \u001b[36m0:00:00\u001b[0m\n",
            "\u001b[2K     \u001b[90m━━━━━━━━━━━━━━━━━━━━━━━━━━━━━━━━━━━━━━━━\u001b[0m \u001b[32m773.8/773.8 kB\u001b[0m \u001b[31m44.0 MB/s\u001b[0m eta \u001b[36m0:00:00\u001b[0m\n",
            "\u001b[2K     \u001b[90m━━━━━━━━━━━━━━━━━━━━━━━━━━━━━━━━━━━━━━━━\u001b[0m \u001b[32m207.3/207.3 kB\u001b[0m \u001b[31m22.4 MB/s\u001b[0m eta \u001b[36m0:00:00\u001b[0m\n",
            "\u001b[2K     \u001b[90m━━━━━━━━━━━━━━━━━━━━━━━━━━━━━━━━━━━━━━━━\u001b[0m \u001b[32m6.9/6.9 MB\u001b[0m \u001b[31m76.4 MB/s\u001b[0m eta \u001b[36m0:00:00\u001b[0m\n",
            "\u001b[2K     \u001b[90m━━━━━━━━━━━━━━━━━━━━━━━━━━━━━━━━━━━━━━━━\u001b[0m \u001b[32m83.0/83.0 kB\u001b[0m \u001b[31m9.6 MB/s\u001b[0m eta \u001b[36m0:00:00\u001b[0m\n",
            "\u001b[2K     \u001b[90m━━━━━━━━━━━━━━━━━━━━━━━━━━━━━━━━━━━━━━━━\u001b[0m \u001b[32m1.9/1.9 MB\u001b[0m \u001b[31m75.1 MB/s\u001b[0m eta \u001b[36m0:00:00\u001b[0m\n",
            "\u001b[2K     \u001b[90m━━━━━━━━━━━━━━━━━━━━━━━━━━━━━━━━━━━━━━━━\u001b[0m \u001b[32m32.9/32.9 MB\u001b[0m \u001b[31m14.7 MB/s\u001b[0m eta \u001b[36m0:00:00\u001b[0m\n",
            "\u001b[2K     \u001b[90m━━━━━━━━━━━━━━━━━━━━━━━━━━━━━━━━━━━━━━━━\u001b[0m \u001b[32m2.1/2.1 MB\u001b[0m \u001b[31m79.6 MB/s\u001b[0m eta \u001b[36m0:00:00\u001b[0m\n",
            "\u001b[2K     \u001b[90m━━━━━━━━━━━━━━━━━━━━━━━━━━━━━━━━━━━━━━━━\u001b[0m \u001b[32m62.7/62.7 kB\u001b[0m \u001b[31m7.0 MB/s\u001b[0m eta \u001b[36m0:00:00\u001b[0m\n",
            "\u001b[2K     \u001b[90m━━━━━━━━━━━━━━━━━━━━━━━━━━━━━━━━━━━━━━━━\u001b[0m \u001b[32m307.7/307.7 kB\u001b[0m \u001b[31m31.3 MB/s\u001b[0m eta \u001b[36m0:00:00\u001b[0m\n",
            "\u001b[?25h"
          ]
        }
      ],
      "source": [
        "!pip install streamlit streamlit-webrtc pyzbar pillow requests opencv-python-headless pyngrok -q"
      ]
    },
    {
      "cell_type": "code",
      "execution_count": 3,
      "metadata": {
        "id": "DqJwU3Q4Zhpe",
        "colab": {
          "base_uri": "https://localhost:8080/"
        },
        "outputId": "9388e43f-f533-48f0-a192-63a2e12b4c33"
      },
      "outputs": [
        {
          "output_type": "stream",
          "name": "stdout",
          "text": [
            "Reading package lists... Done\n",
            "Building dependency tree... Done\n",
            "Reading state information... Done\n",
            "The following additional packages will be installed:\n",
            "  fonts-droid-fallback fonts-noto-mono fonts-urw-base35 ghostscript gsfonts\n",
            "  imagemagick-6-common libdjvulibre-text libdjvulibre21 libfftw3-double3\n",
            "  libgs9 libgs9-common libidn12 libijs-0.35 libjbig2dec0 libjxr-tools libjxr0\n",
            "  liblqr-1-0 libmagickcore-6.q16-6 libmagickcore-6.q16-6-extra\n",
            "  libmagickwand-6.q16-6 libv4l-0 libv4lconvert0 libwmflite-0.2-7 poppler-data\n",
            "Suggested packages:\n",
            "  fonts-noto fonts-freefont-otf | fonts-freefont-ttf fonts-texgyre\n",
            "  ghostscript-x libfftw3-bin libfftw3-dev inkscape poppler-utils\n",
            "  fonts-japanese-mincho | fonts-ipafont-mincho fonts-japanese-gothic\n",
            "  | fonts-ipafont-gothic fonts-arphic-ukai fonts-arphic-uming fonts-nanum\n",
            "The following NEW packages will be installed:\n",
            "  fonts-droid-fallback fonts-noto-mono fonts-urw-base35 ghostscript gsfonts\n",
            "  imagemagick-6-common libdjvulibre-text libdjvulibre21 libfftw3-double3\n",
            "  libgs9 libgs9-common libidn12 libijs-0.35 libjbig2dec0 libjxr-tools libjxr0\n",
            "  liblqr-1-0 libmagickcore-6.q16-6 libmagickcore-6.q16-6-extra\n",
            "  libmagickwand-6.q16-6 libv4l-0 libv4lconvert0 libwmflite-0.2-7 libzbar0\n",
            "  poppler-data\n",
            "0 upgraded, 25 newly installed, 0 to remove and 45 not upgraded.\n",
            "Need to get 24.1 MB of archives.\n",
            "After this operation, 82.6 MB of additional disk space will be used.\n",
            "Get:1 http://archive.ubuntu.com/ubuntu jammy/main amd64 fonts-droid-fallback all 1:6.0.1r16-1.1build1 [1,805 kB]\n",
            "Get:2 http://archive.ubuntu.com/ubuntu jammy/main amd64 libfftw3-double3 amd64 3.3.8-2ubuntu8 [770 kB]\n",
            "Get:3 http://archive.ubuntu.com/ubuntu jammy/universe amd64 liblqr-1-0 amd64 0.4.2-2.1 [27.7 kB]\n",
            "Get:4 http://archive.ubuntu.com/ubuntu jammy-updates/universe amd64 imagemagick-6-common all 8:6.9.11.60+dfsg-1.3ubuntu0.22.04.3 [63.6 kB]\n",
            "Get:5 http://archive.ubuntu.com/ubuntu jammy-updates/universe amd64 libmagickcore-6.q16-6 amd64 8:6.9.11.60+dfsg-1.3ubuntu0.22.04.3 [1,788 kB]\n",
            "Get:6 http://archive.ubuntu.com/ubuntu jammy-updates/universe amd64 libmagickwand-6.q16-6 amd64 8:6.9.11.60+dfsg-1.3ubuntu0.22.04.3 [328 kB]\n",
            "Get:7 http://archive.ubuntu.com/ubuntu jammy/main amd64 poppler-data all 0.4.11-1 [2,171 kB]\n",
            "Get:8 http://archive.ubuntu.com/ubuntu jammy/main amd64 fonts-noto-mono all 20201225-1build1 [397 kB]\n",
            "Get:9 http://archive.ubuntu.com/ubuntu jammy/main amd64 fonts-urw-base35 all 20200910-1 [6,367 kB]\n",
            "Get:10 http://archive.ubuntu.com/ubuntu jammy-updates/main amd64 libgs9-common all 9.55.0~dfsg1-0ubuntu5.6 [751 kB]\n",
            "Get:11 http://archive.ubuntu.com/ubuntu jammy-updates/main amd64 libidn12 amd64 1.38-4ubuntu1 [60.0 kB]\n",
            "Get:12 http://archive.ubuntu.com/ubuntu jammy/main amd64 libijs-0.35 amd64 0.35-15build2 [16.5 kB]\n",
            "Get:13 http://archive.ubuntu.com/ubuntu jammy/main amd64 libjbig2dec0 amd64 0.19-3build2 [64.7 kB]\n",
            "Get:14 http://archive.ubuntu.com/ubuntu jammy-updates/main amd64 libgs9 amd64 9.55.0~dfsg1-0ubuntu5.6 [5,031 kB]\n",
            "Get:15 http://archive.ubuntu.com/ubuntu jammy-updates/main amd64 ghostscript amd64 9.55.0~dfsg1-0ubuntu5.6 [49.4 kB]\n",
            "Get:16 http://archive.ubuntu.com/ubuntu jammy/universe amd64 gsfonts all 1:8.11+urwcyr1.0.7~pre44-4.5 [3,120 kB]\n",
            "Get:17 http://archive.ubuntu.com/ubuntu jammy/main amd64 libdjvulibre-text all 3.5.28-2build2 [50.9 kB]\n",
            "Get:18 http://archive.ubuntu.com/ubuntu jammy/main amd64 libdjvulibre21 amd64 3.5.28-2build2 [624 kB]\n",
            "Get:19 http://archive.ubuntu.com/ubuntu jammy/universe amd64 libjxr0 amd64 1.2~git20170615.f752187-5 [174 kB]\n",
            "Get:20 http://archive.ubuntu.com/ubuntu jammy/universe amd64 libjxr-tools amd64 1.2~git20170615.f752187-5 [16.0 kB]\n",
            "Get:21 http://archive.ubuntu.com/ubuntu jammy/main amd64 libwmflite-0.2-7 amd64 0.2.12-5ubuntu1 [68.9 kB]\n",
            "Get:22 http://archive.ubuntu.com/ubuntu jammy-updates/universe amd64 libmagickcore-6.q16-6-extra amd64 8:6.9.11.60+dfsg-1.3ubuntu0.22.04.3 [70.1 kB]\n",
            "Get:23 http://archive.ubuntu.com/ubuntu jammy/main amd64 libv4lconvert0 amd64 1.22.1-2build1 [82.4 kB]\n",
            "Get:24 http://archive.ubuntu.com/ubuntu jammy/main amd64 libv4l-0 amd64 1.22.1-2build1 [44.9 kB]\n",
            "Get:25 http://archive.ubuntu.com/ubuntu jammy/universe amd64 libzbar0 amd64 0.23.92-4build2 [121 kB]\n",
            "Fetched 24.1 MB in 2s (14.7 MB/s)\n",
            "debconf: unable to initialize frontend: Dialog\n",
            "debconf: (No usable dialog-like program is installed, so the dialog based frontend cannot be used. at /usr/share/perl5/Debconf/FrontEnd/Dialog.pm line 78, <> line 25.)\n",
            "debconf: falling back to frontend: Readline\n",
            "debconf: unable to initialize frontend: Readline\n",
            "debconf: (This frontend requires a controlling tty.)\n",
            "debconf: falling back to frontend: Teletype\n",
            "dpkg-preconfigure: unable to re-open stdin: \n",
            "Selecting previously unselected package fonts-droid-fallback.\n",
            "(Reading database ... 121918 files and directories currently installed.)\n",
            "Preparing to unpack .../00-fonts-droid-fallback_1%3a6.0.1r16-1.1build1_all.deb ...\n",
            "Unpacking fonts-droid-fallback (1:6.0.1r16-1.1build1) ...\n",
            "Selecting previously unselected package libfftw3-double3:amd64.\n",
            "Preparing to unpack .../01-libfftw3-double3_3.3.8-2ubuntu8_amd64.deb ...\n",
            "Unpacking libfftw3-double3:amd64 (3.3.8-2ubuntu8) ...\n",
            "Selecting previously unselected package liblqr-1-0:amd64.\n",
            "Preparing to unpack .../02-liblqr-1-0_0.4.2-2.1_amd64.deb ...\n",
            "Unpacking liblqr-1-0:amd64 (0.4.2-2.1) ...\n",
            "Selecting previously unselected package imagemagick-6-common.\n",
            "Preparing to unpack .../03-imagemagick-6-common_8%3a6.9.11.60+dfsg-1.3ubuntu0.22.04.3_all.deb ...\n",
            "Unpacking imagemagick-6-common (8:6.9.11.60+dfsg-1.3ubuntu0.22.04.3) ...\n",
            "Selecting previously unselected package libmagickcore-6.q16-6:amd64.\n",
            "Preparing to unpack .../04-libmagickcore-6.q16-6_8%3a6.9.11.60+dfsg-1.3ubuntu0.22.04.3_amd64.deb ...\n",
            "Unpacking libmagickcore-6.q16-6:amd64 (8:6.9.11.60+dfsg-1.3ubuntu0.22.04.3) ...\n",
            "Selecting previously unselected package libmagickwand-6.q16-6:amd64.\n",
            "Preparing to unpack .../05-libmagickwand-6.q16-6_8%3a6.9.11.60+dfsg-1.3ubuntu0.22.04.3_amd64.deb ...\n",
            "Unpacking libmagickwand-6.q16-6:amd64 (8:6.9.11.60+dfsg-1.3ubuntu0.22.04.3) ...\n",
            "Selecting previously unselected package poppler-data.\n",
            "Preparing to unpack .../06-poppler-data_0.4.11-1_all.deb ...\n",
            "Unpacking poppler-data (0.4.11-1) ...\n",
            "Selecting previously unselected package fonts-noto-mono.\n",
            "Preparing to unpack .../07-fonts-noto-mono_20201225-1build1_all.deb ...\n",
            "Unpacking fonts-noto-mono (20201225-1build1) ...\n",
            "Selecting previously unselected package fonts-urw-base35.\n",
            "Preparing to unpack .../08-fonts-urw-base35_20200910-1_all.deb ...\n",
            "Unpacking fonts-urw-base35 (20200910-1) ...\n",
            "Selecting previously unselected package libgs9-common.\n",
            "Preparing to unpack .../09-libgs9-common_9.55.0~dfsg1-0ubuntu5.6_all.deb ...\n",
            "Unpacking libgs9-common (9.55.0~dfsg1-0ubuntu5.6) ...\n",
            "Selecting previously unselected package libidn12:amd64.\n",
            "Preparing to unpack .../10-libidn12_1.38-4ubuntu1_amd64.deb ...\n",
            "Unpacking libidn12:amd64 (1.38-4ubuntu1) ...\n",
            "Selecting previously unselected package libijs-0.35:amd64.\n",
            "Preparing to unpack .../11-libijs-0.35_0.35-15build2_amd64.deb ...\n",
            "Unpacking libijs-0.35:amd64 (0.35-15build2) ...\n",
            "Selecting previously unselected package libjbig2dec0:amd64.\n",
            "Preparing to unpack .../12-libjbig2dec0_0.19-3build2_amd64.deb ...\n",
            "Unpacking libjbig2dec0:amd64 (0.19-3build2) ...\n",
            "Selecting previously unselected package libgs9:amd64.\n",
            "Preparing to unpack .../13-libgs9_9.55.0~dfsg1-0ubuntu5.6_amd64.deb ...\n",
            "Unpacking libgs9:amd64 (9.55.0~dfsg1-0ubuntu5.6) ...\n",
            "Selecting previously unselected package ghostscript.\n",
            "Preparing to unpack .../14-ghostscript_9.55.0~dfsg1-0ubuntu5.6_amd64.deb ...\n",
            "Unpacking ghostscript (9.55.0~dfsg1-0ubuntu5.6) ...\n",
            "Selecting previously unselected package gsfonts.\n",
            "Preparing to unpack .../15-gsfonts_1%3a8.11+urwcyr1.0.7~pre44-4.5_all.deb ...\n",
            "Unpacking gsfonts (1:8.11+urwcyr1.0.7~pre44-4.5) ...\n",
            "Selecting previously unselected package libdjvulibre-text.\n",
            "Preparing to unpack .../16-libdjvulibre-text_3.5.28-2build2_all.deb ...\n",
            "Unpacking libdjvulibre-text (3.5.28-2build2) ...\n",
            "Selecting previously unselected package libdjvulibre21:amd64.\n",
            "Preparing to unpack .../17-libdjvulibre21_3.5.28-2build2_amd64.deb ...\n",
            "Unpacking libdjvulibre21:amd64 (3.5.28-2build2) ...\n",
            "Selecting previously unselected package libjxr0:amd64.\n",
            "Preparing to unpack .../18-libjxr0_1.2~git20170615.f752187-5_amd64.deb ...\n",
            "Unpacking libjxr0:amd64 (1.2~git20170615.f752187-5) ...\n",
            "Selecting previously unselected package libjxr-tools.\n",
            "Preparing to unpack .../19-libjxr-tools_1.2~git20170615.f752187-5_amd64.deb ...\n",
            "Unpacking libjxr-tools (1.2~git20170615.f752187-5) ...\n",
            "Selecting previously unselected package libwmflite-0.2-7:amd64.\n",
            "Preparing to unpack .../20-libwmflite-0.2-7_0.2.12-5ubuntu1_amd64.deb ...\n",
            "Unpacking libwmflite-0.2-7:amd64 (0.2.12-5ubuntu1) ...\n",
            "Selecting previously unselected package libmagickcore-6.q16-6-extra:amd64.\n",
            "Preparing to unpack .../21-libmagickcore-6.q16-6-extra_8%3a6.9.11.60+dfsg-1.3ubuntu0.22.04.3_amd64.deb ...\n",
            "Unpacking libmagickcore-6.q16-6-extra:amd64 (8:6.9.11.60+dfsg-1.3ubuntu0.22.04.3) ...\n",
            "Selecting previously unselected package libv4lconvert0:amd64.\n",
            "Preparing to unpack .../22-libv4lconvert0_1.22.1-2build1_amd64.deb ...\n",
            "Unpacking libv4lconvert0:amd64 (1.22.1-2build1) ...\n",
            "Selecting previously unselected package libv4l-0:amd64.\n",
            "Preparing to unpack .../23-libv4l-0_1.22.1-2build1_amd64.deb ...\n",
            "Unpacking libv4l-0:amd64 (1.22.1-2build1) ...\n",
            "Selecting previously unselected package libzbar0:amd64.\n",
            "Preparing to unpack .../24-libzbar0_0.23.92-4build2_amd64.deb ...\n",
            "Unpacking libzbar0:amd64 (0.23.92-4build2) ...\n",
            "Setting up imagemagick-6-common (8:6.9.11.60+dfsg-1.3ubuntu0.22.04.3) ...\n",
            "Setting up fonts-noto-mono (20201225-1build1) ...\n",
            "Setting up libwmflite-0.2-7:amd64 (0.2.12-5ubuntu1) ...\n",
            "Setting up libijs-0.35:amd64 (0.35-15build2) ...\n",
            "Setting up libjxr0:amd64 (1.2~git20170615.f752187-5) ...\n",
            "Setting up fonts-urw-base35 (20200910-1) ...\n",
            "Setting up poppler-data (0.4.11-1) ...\n",
            "Setting up libjbig2dec0:amd64 (0.19-3build2) ...\n",
            "Setting up gsfonts (1:8.11+urwcyr1.0.7~pre44-4.5) ...\n",
            "Setting up libidn12:amd64 (1.38-4ubuntu1) ...\n",
            "Setting up libfftw3-double3:amd64 (3.3.8-2ubuntu8) ...\n",
            "Setting up liblqr-1-0:amd64 (0.4.2-2.1) ...\n",
            "Setting up libv4lconvert0:amd64 (1.22.1-2build1) ...\n",
            "Setting up fonts-droid-fallback (1:6.0.1r16-1.1build1) ...\n",
            "Setting up libdjvulibre-text (3.5.28-2build2) ...\n",
            "Setting up libgs9-common (9.55.0~dfsg1-0ubuntu5.6) ...\n",
            "Setting up libjxr-tools (1.2~git20170615.f752187-5) ...\n",
            "Setting up libgs9:amd64 (9.55.0~dfsg1-0ubuntu5.6) ...\n",
            "Setting up libdjvulibre21:amd64 (3.5.28-2build2) ...\n",
            "Setting up ghostscript (9.55.0~dfsg1-0ubuntu5.6) ...\n",
            "Setting up libv4l-0:amd64 (1.22.1-2build1) ...\n",
            "Setting up libmagickcore-6.q16-6:amd64 (8:6.9.11.60+dfsg-1.3ubuntu0.22.04.3) ...\n",
            "Setting up libmagickwand-6.q16-6:amd64 (8:6.9.11.60+dfsg-1.3ubuntu0.22.04.3) ...\n",
            "Setting up libmagickcore-6.q16-6-extra:amd64 (8:6.9.11.60+dfsg-1.3ubuntu0.22.04.3) ...\n",
            "Setting up libzbar0:amd64 (0.23.92-4build2) ...\n",
            "Processing triggers for man-db (2.10.2-1) ...\n",
            "Processing triggers for fontconfig (2.13.1-4.2ubuntu5) ...\n",
            "Processing triggers for libc-bin (2.35-0ubuntu3.4) ...\n",
            "/sbin/ldconfig.real: /usr/local/lib/libtbbbind_2_0.so.3 is not a symbolic link\n",
            "\n",
            "/sbin/ldconfig.real: /usr/local/lib/libtbbmalloc.so.2 is not a symbolic link\n",
            "\n",
            "/sbin/ldconfig.real: /usr/local/lib/libtbbbind_2_5.so.3 is not a symbolic link\n",
            "\n",
            "/sbin/ldconfig.real: /usr/local/lib/libtbb.so.12 is not a symbolic link\n",
            "\n",
            "/sbin/ldconfig.real: /usr/local/lib/libtbbmalloc_proxy.so.2 is not a symbolic link\n",
            "\n",
            "/sbin/ldconfig.real: /usr/local/lib/libtbbbind.so.3 is not a symbolic link\n",
            "\n"
          ]
        }
      ],
      "source": [
        "!sudo apt-get install libzbar0"
      ]
    },
    {
      "cell_type": "code",
      "execution_count": 4,
      "metadata": {
        "id": "yXfzNyhE1rxG"
      },
      "outputs": [],
      "source": [
        "import streamlit as st\n",
        "from pyngrok import ngrok"
      ]
    },
    {
      "cell_type": "code",
      "execution_count": 5,
      "metadata": {
        "id": "wTBjGPdv1rxG"
      },
      "outputs": [],
      "source": [
        "from google.colab import userdata\n",
        "NGROK_AUTH_TOKEN = userdata.get('NGROK_AUTH_TOKEN')"
      ]
    },
    {
      "cell_type": "code",
      "execution_count": 6,
      "metadata": {
        "id": "SUP7mo2B1rxG",
        "colab": {
          "base_uri": "https://localhost:8080/"
        },
        "outputId": "d6a78ffb-4675-415b-cde7-aae2e93a072c"
      },
      "outputs": [
        {
          "output_type": "stream",
          "name": "stdout",
          "text": []
        }
      ],
      "source": [
        "from pyngrok import ngrok\n",
        "import os\n",
        "\n",
        "# ngrokトークンを設定\n",
        "ngrok.set_auth_token(NGROK_AUTH_TOKEN)"
      ]
    },
    {
      "cell_type": "markdown",
      "metadata": {
        "id": "KfkVixYM1rxG"
      },
      "source": [
        "##実行ファイル"
      ]
    },
    {
      "cell_type": "markdown",
      "metadata": {
        "id": "sMerQbWVeyRE"
      },
      "source": [
        "###version1"
      ]
    },
    {
      "cell_type": "code",
      "source": [
        "%%writefile streamlit_app.py\n",
        "import streamlit as st\n",
        "from streamlit_webrtc import webrtc_streamer, VideoTransformerBase\n",
        "import cv2\n",
        "import numpy as np\n",
        "from pyzbar.pyzbar import decode\n",
        "import requests\n",
        "from PIL import Image\n",
        "from io import BytesIO\n",
        "\n",
        "# APIから書籍データを取得する関数\n",
        "def get_book_info(isbn):\n",
        "    #url = f'https://www.googleapis.com/books/v1/volumes?q=isbn:{isbn}'\n",
        "    url = f'https://openlibrary.org/api/books?bibkeys=ISBN:{isbn}&format=json&jscmd=data'\n",
        "    response = requests.get(url)\n",
        "    if response.status_code == 200:\n",
        "        data = response.json()\n",
        "        if \"items\" in data:\n",
        "            return data[\"items\"][0][\"volumeInfo\"]\n",
        "    return None\n",
        "\n",
        "# 手動でISBN番号を入力する関数\n",
        "def manual_isbn_input():\n",
        "    isbn = st.text_input(\"ISBN番号を入力してください（例: 9784297108434）\")\n",
        "    if isbn:\n",
        "        display_book_info(isbn)\n",
        "\n",
        "# カメラでバーコードを読み取るクラス\n",
        "class BarcodeScanner(VideoTransformerBase):\n",
        "    def __init__(self):\n",
        "        self.last_barcode = None\n",
        "\n",
        "    def transform(self, frame):\n",
        "        img = frame.to_ndarray(format=\"bgr24\")\n",
        "        decoded_objects = decode(img)\n",
        "\n",
        "        for obj in decoded_objects:\n",
        "            barcode_data = obj.data.decode(\"utf-8\")\n",
        "            barcode_type = obj.type\n",
        "\n",
        "            # デバッグ: 認識したバーコード情報を表示\n",
        "            st.write(f\"認識したバーコード: {barcode_data} (タイプ: {barcode_type})\")\n",
        "\n",
        "            # ISBNは通常 \"97\" で始まる\n",
        "            if barcode_type in [\"EAN13\", \"ISBN13\"] and barcode_data.startswith('97') and barcode_data != self.last_barcode:\n",
        "                self.last_barcode = barcode_data\n",
        "                st.session_state['barcode'] = barcode_data\n",
        "                break\n",
        "\n",
        "        return img\n",
        "\n",
        "# カメラでバーコードを読み取る関数\n",
        "def camera_isbn_input():\n",
        "    if 'barcode' not in st.session_state:\n",
        "        st.session_state['barcode'] = None\n",
        "    webrtc_ctx = webrtc_streamer(key=\"barcode-scanner\", video_transformer_factory=BarcodeScanner)\n",
        "    if st.session_state['barcode']:\n",
        "        barcode = st.session_state['barcode']\n",
        "        st.success(f\"バーコードが読み取られました: {barcode}\")\n",
        "        display_book_info(barcode)\n",
        "    else:\n",
        "        st.write(\"カメラをバーコードに向けてください。\")\n",
        "\n",
        "# 画像からバーコードを読み取る関数\n",
        "def image_isbn_input():\n",
        "    uploaded_file = st.file_uploader(\"バーコードを含む画像をアップロードしてください\", type=[\"png\", \"jpg\", \"jpeg\"])\n",
        "    if uploaded_file is not None:\n",
        "        image = Image.open(uploaded_file)\n",
        "        st.image(image, caption='アップロードされた画像', use_column_width=True)\n",
        "        img_array = np.array(image.convert('RGB'))\n",
        "        decoded_objects = decode(img_array)\n",
        "        for obj in decoded_objects:\n",
        "            barcode_data = obj.data.decode(\"utf-8\")\n",
        "            barcode_type = obj.type\n",
        "            if barcode_type in [\"EAN13\", \"ISBN13\"] and barcode_data.startswith('97'):\n",
        "                st.session_state['barcode'] = barcode_data\n",
        "                break\n",
        "        if 'barcode' in st.session_state and st.session_state['barcode']:\n",
        "            st.success(f\"バーコードが読み取られました: {st.session_state['barcode']}\")\n",
        "            display_book_info(st.session_state['barcode'])\n",
        "        else:\n",
        "            st.error(\"バーコードが検出されませんでした。\")\n",
        "\n",
        "# 書籍情報を表示する関数\n",
        "def display_book_info(isbn):\n",
        "    book_info = get_book_info(isbn)\n",
        "    if book_info:\n",
        "        st.write(\"書籍情報:\")\n",
        "        st.write(f\"**タイトル**: {book_info.get('title', '不明')}\")\n",
        "        st.write(f\"**著者**: {', '.join(book_info.get('authors', ['不明']))}\")\n",
        "        st.write(f\"**出版年**: {book_info.get('publishedDate', '不明')}\")\n",
        "        st.write(f\"**出版社**: {book_info.get('publisher', '不明')}\")\n",
        "        st.write(f\"**説明**: {book_info.get('description', '不明')}\")\n",
        "        if 'imageLinks' in book_info and 'thumbnail' in book_info['imageLinks']:\n",
        "            image_url = book_info['imageLinks']['thumbnail']\n",
        "            response = requests.get(image_url)\n",
        "            img = Image.open(BytesIO(response.content))\n",
        "            st.image(img, caption=book_info.get('title', '不明'))\n",
        "    else:\n",
        "        st.error(\"書籍情報が見つかりませんでした。\")\n",
        "\n",
        "st.title(\"ISBN番号で書籍データを検索するアプリ\")\n",
        "\n",
        "option = st.radio(\"選択してください:\", (\"ISBN番号を入力\", \"カメラでバーコードを読み取る\", \"画像からバーコードを読み取る\"))\n",
        "\n",
        "if option == \"ISBN番号を入力\":\n",
        "    manual_isbn_input()\n",
        "elif option == \"カメラでバーコードを読み取る\":\n",
        "    camera_isbn_input()\n",
        "elif option == \"画像からバーコードを読み取る\":\n",
        "    image_isbn_input()"
      ],
      "metadata": {
        "colab": {
          "base_uri": "https://localhost:8080/"
        },
        "id": "FHnHJYWjjuf-",
        "outputId": "e2a3c55c-11f1-40ef-a279-b4fd8fe4737c"
      },
      "execution_count": null,
      "outputs": [
        {
          "output_type": "stream",
          "name": "stdout",
          "text": [
            "Writing streamlit_app.py\n"
          ]
        }
      ]
    },
    {
      "cell_type": "markdown",
      "source": [
        "##version2"
      ],
      "metadata": {
        "id": "knwG7d8zhHJQ"
      }
    },
    {
      "cell_type": "code",
      "source": [
        "\n",
        "%%writefile streamlit_app.py\n",
        "import streamlit as st\n",
        "from streamlit_webrtc import webrtc_streamer, VideoTransformerBase\n",
        "import cv2\n",
        "import numpy as np\n",
        "from pyzbar.pyzbar import decode\n",
        "import requests\n",
        "from PIL import Image\n",
        "from io import BytesIO\n",
        "\n",
        "# OpenBD APIから書籍データを取得する関数\n",
        "def get_book_info_from_openbd(isbn):\n",
        "    url = f'https://api.openbd.jp/v1/get?isbn={isbn}'\n",
        "    response = requests.get(url)\n",
        "    if response.status_code == 200:\n",
        "        data = response.json()\n",
        "        if data and data[0]:\n",
        "            return data[0]['summary']\n",
        "    return None\n",
        "\n",
        "# 手動でISBN番号を入力する関数\n",
        "def manual_isbn_input():\n",
        "    isbn = st.text_input(\"ISBN番号を入力してください（例: 9784297108434）\")\n",
        "    st.write(f\"入力されたISBN番号: {isbn}\")  # デバッグ用\n",
        "    if isbn:\n",
        "        display_book_info(isbn)\n",
        "\n",
        "# カメラでバーコードを読み取るクラス\n",
        "class BarcodeScanner(VideoTransformerBase):\n",
        "    def __init__(self):\n",
        "        self.last_barcode = None\n",
        "\n",
        "    def transform(self, frame):\n",
        "        img = frame.to_ndarray(format=\"bgr24\")\n",
        "        decoded_objects = decode(img)\n",
        "\n",
        "        for obj in decoded_objects:\n",
        "            barcode_data = obj.data.decode(\"utf-8\")\n",
        "            barcode_type = obj.type\n",
        "\n",
        "            # デバッグ: 認識したバーコード情報を表示\n",
        "            st.write(f\"認識したバーコード: {barcode_data} (タイプ: {barcode_type})\")\n",
        "\n",
        "            # ISBNは通常 \"97\" で始まる\n",
        "            if barcode_type in [\"EAN13\", \"ISBN13\"] and barcode_data.startswith('97') and barcode_data != self.last_barcode:\n",
        "                self.last_barcode = barcode_data\n",
        "                st.session_state['barcode'] = barcode_data\n",
        "                break\n",
        "\n",
        "        return img\n",
        "\n",
        "# カメラでバーコードを読み取る関数\n",
        "def camera_isbn_input():\n",
        "    if 'barcode' not in st.session_state:\n",
        "        st.session_state['barcode'] = None\n",
        "    webrtc_ctx = webrtc_streamer(key=\"barcode-scanner\", video_transformer_factory=BarcodeScanner)\n",
        "    if st.session_state['barcode']:\n",
        "        barcode = st.session_state['barcode']\n",
        "        st.success(f\"バーコードが読み取られました: {barcode}\")\n",
        "        display_book_info(barcode)\n",
        "    else:\n",
        "        st.write(\"カメラをバーコードに向けてください。\")\n",
        "\n",
        "# 画像からバーコードを読み取る関数\n",
        "def image_isbn_input():\n",
        "    uploaded_file = st.file_uploader(\"バーコードを含む画像をアップロードしてください\", type=[\"png\", \"jpg\", \"jpeg\"])\n",
        "    if uploaded_file is not None:\n",
        "        image = Image.open(uploaded_file)\n",
        "        st.image(image, caption='アップロードされた画像', use_column_width=True)\n",
        "        img_array = np.array(image.convert('RGB'))\n",
        "        decoded_objects = decode(img_array)\n",
        "        st.write(f\"デコードされたオブジェクト: {decoded_objects}\")  # デバッグ用\n",
        "        for obj in decoded_objects:\n",
        "            barcode_data = obj.data.decode(\"utf-8\")\n",
        "            barcode_type = obj.type\n",
        "            st.write(f\"認識したバーコード: {barcode_data} (タイプ: {barcode_type})\")  # デバッグ用\n",
        "            if barcode_type in [\"EAN13\", \"ISBN13\"] and barcode_data.startswith('97'):\n",
        "                st.session_state['barcode'] = barcode_data\n",
        "                break\n",
        "        if 'barcode' in st.session_state and st.session_state['barcode']:\n",
        "            st.success(f\"バーコードが読み取られました: {st.session_state['barcode']}\")\n",
        "            display_book_info(st.session_state['barcode'])\n",
        "        else:\n",
        "            st.error(\"バーコードが検出されませんでした。\")\n",
        "\n",
        "# 書籍情報を表示する関数\n",
        "def display_book_info(isbn):\n",
        "    book_info = get_book_info_from_openbd(isbn)\n",
        "    if book_info:\n",
        "        st.write(\"書籍情報:\")\n",
        "        st.write(f\"**タイトル**: {book_info.get('title', '不明')}\")\n",
        "        st.write(f\"**著者**: {book_info.get('author', '不明')}\")\n",
        "        st.write(f\"**出版社**: {book_info.get('publisher', '不明')}\")\n",
        "        st.write(f\"**出版年**: {book_info.get('pubdate', '不明')}\")\n",
        "        if 'cover' in book_info and book_info['cover']:\n",
        "            image_url = book_info['cover']\n",
        "            if image_url:  # URLが空でないことを確認\n",
        "                response = requests.get(image_url)\n",
        "                if response.status_code == 200:\n",
        "                    img = Image.open(BytesIO(response.content))\n",
        "                    st.image(img, caption=book_info.get('title', '不明'))\n",
        "    else:\n",
        "        st.error(\"書籍情報が見つかりませんでした。\")\n",
        "\n",
        "st.title(\"ISBN番号で書籍データを検索するアプリ\")\n",
        "\n",
        "option = st.radio(\"選択してください:\", (\"ISBN番号を入力\", \"カメラでバーコードを読み取る\", \"画像からバーコードを読み取る\"))\n",
        "\n",
        "if option == \"ISBN番号を入力\":\n",
        "    manual_isbn_input()\n",
        "elif option == \"カメラでバーコードを読み取る\":\n",
        "    camera_isbn_input()\n",
        "elif option == \"画像からバーコードを読み取る\":\n",
        "    image_isbn_input()"
      ],
      "metadata": {
        "colab": {
          "base_uri": "https://localhost:8080/"
        },
        "id": "9Kx4ozAnpgws",
        "outputId": "9a4054cf-5532-44ef-e756-1ddfbb8ee239"
      },
      "execution_count": 32,
      "outputs": [
        {
          "output_type": "stream",
          "name": "stdout",
          "text": [
            "Overwriting streamlit_app.py\n"
          ]
        }
      ]
    },
    {
      "cell_type": "markdown",
      "metadata": {
        "id": "W4iAda4i1rxH"
      },
      "source": [
        "##アプリの起動"
      ]
    },
    {
      "cell_type": "code",
      "execution_count": 33,
      "metadata": {
        "colab": {
          "base_uri": "https://localhost:8080/"
        },
        "id": "17c_nK0C1rxH",
        "outputId": "82710665-3248-4e7e-d817-35ea0f1824de"
      },
      "outputs": [
        {
          "output_type": "stream",
          "name": "stdout",
          "text": [
            "Public URL: NgrokTunnel: \"https://8be0-34-34-63-127.ngrok-free.app\" -> \"http://localhost:8501\"\n"
          ]
        }
      ],
      "source": [
        "# ngrokを介してStreamlitを公開\n",
        "public_url = ngrok.connect(addr='8501')\n",
        "print('Public URL:', public_url)"
      ]
    },
    {
      "cell_type": "code",
      "execution_count": 34,
      "metadata": {
        "id": "RL66sp521rxI",
        "colab": {
          "base_uri": "https://localhost:8080/"
        },
        "outputId": "fa671062-a009-44ce-adf2-f9e24b748fd3"
      },
      "outputs": [
        {
          "output_type": "stream",
          "name": "stdout",
          "text": [
            "/content/streamlit_app.py:55: DeprecationWarning: The argument video_transformer_factory is deprecated. Use video_processor_factory instead.\n",
            "See https://github.com/whitphx/streamlit-webrtc#for-users-since-versions-020\n",
            "  webrtc_ctx = webrtc_streamer(key=\"barcode-scanner\", video_transformer_factory=BarcodeScanner)\n",
            "/content/streamlit_app.py:55: DeprecationWarning: The argument video_transformer_factory is deprecated. Use video_processor_factory instead.\n",
            "See https://github.com/whitphx/streamlit-webrtc#for-users-since-versions-020\n",
            "  webrtc_ctx = webrtc_streamer(key=\"barcode-scanner\", video_transformer_factory=BarcodeScanner)\n"
          ]
        }
      ],
      "source": [
        "# Streamlitアプリケーションの起動\n",
        "!streamlit run streamlit_app.py >/dev/null"
      ]
    },
    {
      "cell_type": "code",
      "source": [
        "# APIから書籍データを取得する関数\n",
        "def get_book_info(isbn):\n",
        "    url = f'https://api.openbd.jp/v1/get?isbn={isbn}'\n",
        "    response = requests.get(url)\n",
        "    print(response.json())\n",
        "    if response.status_code == 200:\n",
        "        data = response.json()\n",
        "        key = f'ISBN:{isbn}'\n",
        "        if key in data:\n",
        "            return data[key]\n",
        "    return None\n",
        "\n",
        "# 手動でISBN番号を入力する関数\n",
        "def manual_isbn_input():\n",
        "    isbn = st.text_input(\"ISBN番号を入力してください（例: 9784297108434）\")\n",
        "    st.write(f\"入力されたISBN番号: {isbn}\")  # デバッグ用\n",
        "    if isbn:\n",
        "        display_book_info(isbn)"
      ],
      "metadata": {
        "id": "Vn9xX4jbKUWb"
      },
      "execution_count": 27,
      "outputs": []
    },
    {
      "cell_type": "code",
      "source": [
        "import requests\n",
        "get_book_info(9784297108434)"
      ],
      "metadata": {
        "colab": {
          "base_uri": "https://localhost:8080/"
        },
        "id": "iEFPeF9mKbxF",
        "outputId": "e840ec0c-5b97-4e9b-a498-e944d4c4e7b5"
      },
      "execution_count": 28,
      "outputs": [
        {
          "output_type": "stream",
          "name": "stdout",
          "text": [
            "[{'onix': {'CollateralDetail': {}, 'RecordReference': '9784297108434', 'NotificationType': '03', 'ProductIdentifier': {'ProductIDType': '15', 'IDValue': '9784297108434'}, 'DescriptiveDetail': {'TitleDetail': {'TitleType': '01', 'TitleElement': {'TitleElementLevel': '01', 'TitleText': {'collationkey': 'カグル デ カツ データ ブンセキ ノ ギジュツ', 'content': 'Kaggleで勝つデータ分析の技術'}}}, 'Contributor': [{'SequenceNumber': '1', 'ContributorRole': [], 'PersonName': {'content': '門脇, 大輔', 'collationkey': 'カドワキ, ダイスケ'}}, {'SequenceNumber': '2', 'ContributorRole': [], 'PersonName': {'content': '阪田, 隆司', 'collationkey': 'サカタ, リュウジ'}}, {'SequenceNumber': '3', 'ContributorRole': [], 'PersonName': {'content': '保坂, 桂佑', 'collationkey': 'ホサカ, ケイスケ'}}]}, 'PublishingDetail': {'Imprint': {'ImprintName': '技術評論社'}, 'PublishingDate': [{'PublishingDateRole': '11', 'Date': '201910'}]}, 'ProductSupply': {'SupplyDetail': {'ProductAvailability': '99', 'Price': [{'PriceType': '01', 'CurrencyCode': 'JPY', 'PriceAmount': '3280'}]}}}, 'hanmoto': {'datemodified': '2019-09-25 16:15:59', 'datecreated': '2019-09-02 16:15:31', 'datekoukai': '2019-09-02'}, 'summary': {'isbn': '9784297108434', 'title': 'Kaggleで勝つデータ分析の技術', 'volume': '', 'series': '', 'publisher': '技術評論社', 'pubdate': '201910', 'cover': '', 'author': '門脇,大輔 阪田,隆司 保坂,桂佑'}}]\n"
          ]
        }
      ]
    }
  ],
  "metadata": {
    "colab": {
      "provenance": [],
      "include_colab_link": true
    },
    "kernelspec": {
      "display_name": "Python 3",
      "name": "python3"
    },
    "language_info": {
      "name": "python"
    }
  },
  "nbformat": 4,
  "nbformat_minor": 0
}